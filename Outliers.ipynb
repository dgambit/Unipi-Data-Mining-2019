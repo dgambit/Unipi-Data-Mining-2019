{
 "cells": [
  {
   "cell_type": "markdown",
   "metadata": {},
   "source": [
    "Task 4: Outlier detection: from the original dataset (i.e. the raw records with all attributes, not the time series built only on the “PT08.S1(CO)” attribute), identify the top 1% outliers. Adopt at least two different methods belonging to different families (i.e. model-based, distance-based, density-based, angle-based, …) to identify the 1% of input records with the highest likelihood of being outliers, and compare the results. Before doing the analysis, the records containing missing values should be deleted to avoid trivial results."
   ]
  },
  {
   "cell_type": "code",
   "execution_count": 2,
   "metadata": {},
   "outputs": [
    {
     "data": {
      "text/html": [
       "<div>\n",
       "<style scoped>\n",
       "    .dataframe tbody tr th:only-of-type {\n",
       "        vertical-align: middle;\n",
       "    }\n",
       "\n",
       "    .dataframe tbody tr th {\n",
       "        vertical-align: top;\n",
       "    }\n",
       "\n",
       "    .dataframe thead th {\n",
       "        text-align: right;\n",
       "    }\n",
       "</style>\n",
       "<table border=\"1\" class=\"dataframe\">\n",
       "  <thead>\n",
       "    <tr style=\"text-align: right;\">\n",
       "      <th></th>\n",
       "      <th>co</th>\n",
       "      <th>pt1</th>\n",
       "      <th>nmhc</th>\n",
       "      <th>c6h6</th>\n",
       "      <th>pt2</th>\n",
       "      <th>nox</th>\n",
       "      <th>pt3</th>\n",
       "      <th>no2</th>\n",
       "      <th>pt4</th>\n",
       "      <th>pt5</th>\n",
       "      <th>t</th>\n",
       "      <th>rh</th>\n",
       "      <th>ah</th>\n",
       "    </tr>\n",
       "  </thead>\n",
       "  <tbody>\n",
       "    <tr>\n",
       "      <th>0</th>\n",
       "      <td>2.6</td>\n",
       "      <td>1360.0</td>\n",
       "      <td>150.0</td>\n",
       "      <td>11.9</td>\n",
       "      <td>1046.0</td>\n",
       "      <td>166.0</td>\n",
       "      <td>1056.0</td>\n",
       "      <td>113.0</td>\n",
       "      <td>1692.0</td>\n",
       "      <td>1268.0</td>\n",
       "      <td>13.6</td>\n",
       "      <td>48.9</td>\n",
       "      <td>0.7578</td>\n",
       "    </tr>\n",
       "    <tr>\n",
       "      <th>1</th>\n",
       "      <td>2.0</td>\n",
       "      <td>1292.0</td>\n",
       "      <td>112.0</td>\n",
       "      <td>9.4</td>\n",
       "      <td>955.0</td>\n",
       "      <td>103.0</td>\n",
       "      <td>1174.0</td>\n",
       "      <td>92.0</td>\n",
       "      <td>1559.0</td>\n",
       "      <td>972.0</td>\n",
       "      <td>13.3</td>\n",
       "      <td>47.7</td>\n",
       "      <td>0.7255</td>\n",
       "    </tr>\n",
       "    <tr>\n",
       "      <th>2</th>\n",
       "      <td>2.2</td>\n",
       "      <td>1402.0</td>\n",
       "      <td>88.0</td>\n",
       "      <td>9.0</td>\n",
       "      <td>939.0</td>\n",
       "      <td>131.0</td>\n",
       "      <td>1140.0</td>\n",
       "      <td>114.0</td>\n",
       "      <td>1555.0</td>\n",
       "      <td>1074.0</td>\n",
       "      <td>11.9</td>\n",
       "      <td>54.0</td>\n",
       "      <td>0.7502</td>\n",
       "    </tr>\n",
       "    <tr>\n",
       "      <th>3</th>\n",
       "      <td>2.2</td>\n",
       "      <td>1376.0</td>\n",
       "      <td>80.0</td>\n",
       "      <td>9.2</td>\n",
       "      <td>948.0</td>\n",
       "      <td>172.0</td>\n",
       "      <td>1092.0</td>\n",
       "      <td>122.0</td>\n",
       "      <td>1584.0</td>\n",
       "      <td>1203.0</td>\n",
       "      <td>11.0</td>\n",
       "      <td>60.0</td>\n",
       "      <td>0.7867</td>\n",
       "    </tr>\n",
       "    <tr>\n",
       "      <th>4</th>\n",
       "      <td>1.6</td>\n",
       "      <td>1272.0</td>\n",
       "      <td>51.0</td>\n",
       "      <td>6.5</td>\n",
       "      <td>836.0</td>\n",
       "      <td>131.0</td>\n",
       "      <td>1205.0</td>\n",
       "      <td>116.0</td>\n",
       "      <td>1490.0</td>\n",
       "      <td>1110.0</td>\n",
       "      <td>11.2</td>\n",
       "      <td>59.6</td>\n",
       "      <td>0.7888</td>\n",
       "    </tr>\n",
       "  </tbody>\n",
       "</table>\n",
       "</div>"
      ],
      "text/plain": [
       "    co     pt1   nmhc  c6h6     pt2    nox     pt3    no2     pt4     pt5  \\\n",
       "0  2.6  1360.0  150.0  11.9  1046.0  166.0  1056.0  113.0  1692.0  1268.0   \n",
       "1  2.0  1292.0  112.0   9.4   955.0  103.0  1174.0   92.0  1559.0   972.0   \n",
       "2  2.2  1402.0   88.0   9.0   939.0  131.0  1140.0  114.0  1555.0  1074.0   \n",
       "3  2.2  1376.0   80.0   9.2   948.0  172.0  1092.0  122.0  1584.0  1203.0   \n",
       "4  1.6  1272.0   51.0   6.5   836.0  131.0  1205.0  116.0  1490.0  1110.0   \n",
       "\n",
       "      t    rh      ah  \n",
       "0  13.6  48.9  0.7578  \n",
       "1  13.3  47.7  0.7255  \n",
       "2  11.9  54.0  0.7502  \n",
       "3  11.0  60.0  0.7867  \n",
       "4  11.2  59.6  0.7888  "
      ]
     },
     "execution_count": 2,
     "metadata": {},
     "output_type": "execute_result"
    }
   ],
   "source": [
    "import pandas as pd\n",
    "import seaborn as sns\n",
    "import numpy as np\n",
    "import matplotlib.pyplot as plt\n",
    "\n",
    "sns.set()\n",
    "\n",
    "df = pd.read_csv('AirQualityUCI.csv',sep=';',decimal=',')\n",
    "df = df.dropna(axis=0, how='all')\n",
    "df = df.iloc[:,2:15]\n",
    "df.columns=['co','pt1','nmhc','c6h6','pt2','nox','pt3','no2','pt4','pt5','t','rh','ah']\n",
    "df=df.apply(pd.to_numeric)\n",
    "df.head()"
   ]
  },
  {
   "cell_type": "code",
   "execution_count": 3,
   "metadata": {},
   "outputs": [
    {
     "data": {
      "text/plain": [
       "<matplotlib.image.AxesImage at 0x7fc4066c6b38>"
      ]
     },
     "execution_count": 3,
     "metadata": {},
     "output_type": "execute_result"
    },
    {
     "data": {
      "image/png": "[encoded data removed]",
      "text/plain": [
       "<Figure size 1152x144 with 1 Axes>"
      ]
     },
     "metadata": {},
     "output_type": "display_data"
    }
   ],
   "source": [
    "no = df==-200\n",
    "no= no.replace(to_replace =False,value ='0') \n",
    "no= no.replace(to_replace =True,value ='1') \n",
    "no=no.apply(pd.to_numeric)\n",
    "plt.matshow(no.T, interpolation=None, aspect='auto', cmap='viridis')\n"
   ]
  },
  {
   "cell_type": "code",
   "execution_count": 4,
   "metadata": {},
   "outputs": [
    {
     "data": {
      "text/plain": [
       "9357"
      ]
     },
     "execution_count": 4,
     "metadata": {},
     "output_type": "execute_result"
    }
   ],
   "source": [
    "len(df)"
   ]
  },
  {
   "cell_type": "code",
   "execution_count": 5,
   "metadata": {},
   "outputs": [
    {
     "data": {
      "text/plain": [
       "<matplotlib.image.AxesImage at 0x7fc406656d68>"
      ]
     },
     "execution_count": 5,
     "metadata": {},
     "output_type": "execute_result"
    },
    {
     "data": {
      "image/png": "[encoded data removed]",
      "text/plain": [
       "<Figure size 1152x144 with 1 Axes>"
      ]
     },
     "metadata": {},
     "output_type": "display_data"
    }
   ],
   "source": [
    "df = df.drop('nmhc', axis=1)\n",
    "\n",
    "no = df==-200\n",
    "no= no.replace(to_replace =False,value ='0') \n",
    "no= no.replace(to_replace =True,value ='1') \n",
    "no=no.apply(pd.to_numeric)\n",
    "plt.matshow(no.T, interpolation=None, aspect='auto', cmap='viridis')\n"
   ]
  },
  {
   "cell_type": "code",
   "execution_count": 6,
   "metadata": {},
   "outputs": [
    {
     "name": "stdout",
     "output_type": "stream",
     "text": [
      "Int64Index([   9,   10,   33,   34,   39,   57,   58,   81,   82,  105,\n",
      "            ...\n",
      "            8821, 8822, 8842, 8914, 8986, 9058, 9130, 9202, 9274, 9346],\n",
      "           dtype='int64', length=2416)\n"
     ]
    }
   ],
   "source": [
    "no['sum']=[sum(no.iloc[i]) for i in range(len(no))]\n",
    "elimina = no[no['sum']>0].index\n",
    "print(elimina)"
   ]
  },
  {
   "cell_type": "code",
   "execution_count": 7,
   "metadata": {},
   "outputs": [
    {
     "data": {
      "text/plain": [
       "6941"
      ]
     },
     "execution_count": 7,
     "metadata": {},
     "output_type": "execute_result"
    }
   ],
   "source": [
    "df= df.drop(elimina,axis=0)\n",
    "len(df)"
   ]
  },
  {
   "cell_type": "code",
   "execution_count": 8,
   "metadata": {},
   "outputs": [
    {
     "data": {
      "text/plain": [
       "<matplotlib.image.AxesImage at 0x7fc4065c0630>"
      ]
     },
     "execution_count": 8,
     "metadata": {},
     "output_type": "execute_result"
    },
    {
     "data": {
      "image/png": "[encoded data removed]",
      "text/plain": [
       "<Figure size 1152x144 with 1 Axes>"
      ]
     },
     "metadata": {},
     "output_type": "display_data"
    }
   ],
   "source": [
    "no = df==-200\n",
    "no= no.replace(to_replace =False,value ='0') \n",
    "no= no.replace(to_replace =True,value ='1') \n",
    "\n",
    "no=no.apply(pd.to_numeric)\n",
    "plt.matshow(no.T, interpolation=None, aspect='auto', cmap='viridis')"
   ]
  },
  {
   "cell_type": "code",
   "execution_count": 9,
   "metadata": {},
   "outputs": [
    {
     "name": "stdout",
     "output_type": "stream",
     "text": [
      "69.41\n"
     ]
    }
   ],
   "source": [
    "print(len(df)/100)"
   ]
  },
  {
   "cell_type": "code",
   "execution_count": 10,
   "metadata": {},
   "outputs": [
    {
     "data": {
      "text/html": [
       "<div>\n",
       "<style scoped>\n",
       "    .dataframe tbody tr th:only-of-type {\n",
       "        vertical-align: middle;\n",
       "    }\n",
       "\n",
       "    .dataframe tbody tr th {\n",
       "        vertical-align: top;\n",
       "    }\n",
       "\n",
       "    .dataframe thead th {\n",
       "        text-align: right;\n",
       "    }\n",
       "</style>\n",
       "<table border=\"1\" class=\"dataframe\">\n",
       "  <thead>\n",
       "    <tr style=\"text-align: right;\">\n",
       "      <th></th>\n",
       "      <th>co</th>\n",
       "      <th>pt1</th>\n",
       "      <th>c6h6</th>\n",
       "      <th>pt2</th>\n",
       "      <th>nox</th>\n",
       "      <th>pt3</th>\n",
       "      <th>no2</th>\n",
       "      <th>pt4</th>\n",
       "      <th>pt5</th>\n",
       "      <th>t</th>\n",
       "      <th>rh</th>\n",
       "      <th>ah</th>\n",
       "    </tr>\n",
       "  </thead>\n",
       "  <tbody>\n",
       "    <tr>\n",
       "      <th>0</th>\n",
       "      <td>2.6</td>\n",
       "      <td>1360.0</td>\n",
       "      <td>11.9</td>\n",
       "      <td>1046.0</td>\n",
       "      <td>166.0</td>\n",
       "      <td>1056.0</td>\n",
       "      <td>113.0</td>\n",
       "      <td>1692.0</td>\n",
       "      <td>1268.0</td>\n",
       "      <td>13.6</td>\n",
       "      <td>48.9</td>\n",
       "      <td>0.7578</td>\n",
       "    </tr>\n",
       "    <tr>\n",
       "      <th>1</th>\n",
       "      <td>2.0</td>\n",
       "      <td>1292.0</td>\n",
       "      <td>9.4</td>\n",
       "      <td>955.0</td>\n",
       "      <td>103.0</td>\n",
       "      <td>1174.0</td>\n",
       "      <td>92.0</td>\n",
       "      <td>1559.0</td>\n",
       "      <td>972.0</td>\n",
       "      <td>13.3</td>\n",
       "      <td>47.7</td>\n",
       "      <td>0.7255</td>\n",
       "    </tr>\n",
       "    <tr>\n",
       "      <th>2</th>\n",
       "      <td>2.2</td>\n",
       "      <td>1402.0</td>\n",
       "      <td>9.0</td>\n",
       "      <td>939.0</td>\n",
       "      <td>131.0</td>\n",
       "      <td>1140.0</td>\n",
       "      <td>114.0</td>\n",
       "      <td>1555.0</td>\n",
       "      <td>1074.0</td>\n",
       "      <td>11.9</td>\n",
       "      <td>54.0</td>\n",
       "      <td>0.7502</td>\n",
       "    </tr>\n",
       "    <tr>\n",
       "      <th>3</th>\n",
       "      <td>2.2</td>\n",
       "      <td>1376.0</td>\n",
       "      <td>9.2</td>\n",
       "      <td>948.0</td>\n",
       "      <td>172.0</td>\n",
       "      <td>1092.0</td>\n",
       "      <td>122.0</td>\n",
       "      <td>1584.0</td>\n",
       "      <td>1203.0</td>\n",
       "      <td>11.0</td>\n",
       "      <td>60.0</td>\n",
       "      <td>0.7867</td>\n",
       "    </tr>\n",
       "    <tr>\n",
       "      <th>4</th>\n",
       "      <td>1.6</td>\n",
       "      <td>1272.0</td>\n",
       "      <td>6.5</td>\n",
       "      <td>836.0</td>\n",
       "      <td>131.0</td>\n",
       "      <td>1205.0</td>\n",
       "      <td>116.0</td>\n",
       "      <td>1490.0</td>\n",
       "      <td>1110.0</td>\n",
       "      <td>11.2</td>\n",
       "      <td>59.6</td>\n",
       "      <td>0.7888</td>\n",
       "    </tr>\n",
       "  </tbody>\n",
       "</table>\n",
       "</div>"
      ],
      "text/plain": [
       "    co     pt1  c6h6     pt2    nox     pt3    no2     pt4     pt5     t  \\\n",
       "0  2.6  1360.0  11.9  1046.0  166.0  1056.0  113.0  1692.0  1268.0  13.6   \n",
       "1  2.0  1292.0   9.4   955.0  103.0  1174.0   92.0  1559.0   972.0  13.3   \n",
       "2  2.2  1402.0   9.0   939.0  131.0  1140.0  114.0  1555.0  1074.0  11.9   \n",
       "3  2.2  1376.0   9.2   948.0  172.0  1092.0  122.0  1584.0  1203.0  11.0   \n",
       "4  1.6  1272.0   6.5   836.0  131.0  1205.0  116.0  1490.0  1110.0  11.2   \n",
       "\n",
       "     rh      ah  \n",
       "0  48.9  0.7578  \n",
       "1  47.7  0.7255  \n",
       "2  54.0  0.7502  \n",
       "3  60.0  0.7867  \n",
       "4  59.6  0.7888  "
      ]
     },
     "execution_count": 10,
     "metadata": {},
     "output_type": "execute_result"
    }
   ],
   "source": [
    "df = df.reset_index()\n",
    "df = df.drop('index',axis=1)\n",
    "df.head()"
   ]
  },
  {
   "cell_type": "code",
   "execution_count": null,
   "metadata": {},
   "outputs": [],
   "source": []
  },
  {
   "cell_type": "markdown",
   "metadata": {},
   "source": [
    "# NN"
   ]
  },
  {
   "cell_type": "code",
   "execution_count": 11,
   "metadata": {},
   "outputs": [
    {
     "data": {
      "text/html": [
       "<div>\n",
       "<style scoped>\n",
       "    .dataframe tbody tr th:only-of-type {\n",
       "        vertical-align: middle;\n",
       "    }\n",
       "\n",
       "    .dataframe tbody tr th {\n",
       "        vertical-align: top;\n",
       "    }\n",
       "\n",
       "    .dataframe thead th {\n",
       "        text-align: right;\n",
       "    }\n",
       "</style>\n",
       "<table border=\"1\" class=\"dataframe\">\n",
       "  <thead>\n",
       "    <tr style=\"text-align: right;\">\n",
       "      <th></th>\n",
       "      <th>mean</th>\n",
       "    </tr>\n",
       "  </thead>\n",
       "  <tbody>\n",
       "    <tr>\n",
       "      <th>count</th>\n",
       "      <td>6941.000000</td>\n",
       "    </tr>\n",
       "    <tr>\n",
       "      <th>mean</th>\n",
       "      <td>891.552162</td>\n",
       "    </tr>\n",
       "    <tr>\n",
       "      <th>std</th>\n",
       "      <td>239.076725</td>\n",
       "    </tr>\n",
       "    <tr>\n",
       "      <th>min</th>\n",
       "      <td>635.058935</td>\n",
       "    </tr>\n",
       "    <tr>\n",
       "      <th>25%</th>\n",
       "      <td>728.125874</td>\n",
       "    </tr>\n",
       "    <tr>\n",
       "      <th>50%</th>\n",
       "      <td>814.780317</td>\n",
       "    </tr>\n",
       "    <tr>\n",
       "      <th>75%</th>\n",
       "      <td>972.408987</td>\n",
       "    </tr>\n",
       "    <tr>\n",
       "      <th>max</th>\n",
       "      <td>2535.686085</td>\n",
       "    </tr>\n",
       "  </tbody>\n",
       "</table>\n",
       "</div>"
      ],
      "text/plain": [
       "              mean\n",
       "count  6941.000000\n",
       "mean    891.552162\n",
       "std     239.076725\n",
       "min     635.058935\n",
       "25%     728.125874\n",
       "50%     814.780317\n",
       "75%     972.408987\n",
       "max    2535.686085"
      ]
     },
     "execution_count": 11,
     "metadata": {},
     "output_type": "execute_result"
    }
   ],
   "source": [
    "from scipy.spatial import distance_matrix\n",
    "dflist= [list(df.iloc[i,:]) for i in range(len(df))]\n",
    "matdist = pd.DataFrame(distance_matrix(dflist,dflist))\n",
    "stats = matdist.describe()\n",
    "pd.DataFrame(stats.loc['mean']).describe()"
   ]
  },
  {
   "cell_type": "code",
   "execution_count": 12,
   "metadata": {},
   "outputs": [
    {
     "data": {
      "text/html": [
       "<div>\n",
       "<style scoped>\n",
       "    .dataframe tbody tr th:only-of-type {\n",
       "        vertical-align: middle;\n",
       "    }\n",
       "\n",
       "    .dataframe tbody tr th {\n",
       "        vertical-align: top;\n",
       "    }\n",
       "\n",
       "    .dataframe thead th {\n",
       "        text-align: right;\n",
       "    }\n",
       "</style>\n",
       "<table border=\"1\" class=\"dataframe\">\n",
       "  <thead>\n",
       "    <tr style=\"text-align: right;\">\n",
       "      <th></th>\n",
       "      <th>0</th>\n",
       "      <th>1</th>\n",
       "      <th>2</th>\n",
       "      <th>3</th>\n",
       "      <th>4</th>\n",
       "      <th>5</th>\n",
       "      <th>6</th>\n",
       "      <th>7</th>\n",
       "      <th>8</th>\n",
       "      <th>9</th>\n",
       "      <th>...</th>\n",
       "      <th>6931</th>\n",
       "      <th>6932</th>\n",
       "      <th>6933</th>\n",
       "      <th>6934</th>\n",
       "      <th>6935</th>\n",
       "      <th>6936</th>\n",
       "      <th>6937</th>\n",
       "      <th>6938</th>\n",
       "      <th>6939</th>\n",
       "      <th>6940</th>\n",
       "    </tr>\n",
       "  </thead>\n",
       "  <tbody>\n",
       "    <tr>\n",
       "      <th>0</th>\n",
       "      <td>0.000000</td>\n",
       "      <td>0.000000</td>\n",
       "      <td>0.000000</td>\n",
       "      <td>0.000000</td>\n",
       "      <td>0.000000</td>\n",
       "      <td>0.000000</td>\n",
       "      <td>0.000000</td>\n",
       "      <td>0.000000</td>\n",
       "      <td>0.000000</td>\n",
       "      <td>0.000000</td>\n",
       "      <td>...</td>\n",
       "      <td>0.000000</td>\n",
       "      <td>0.000000</td>\n",
       "      <td>0.000000</td>\n",
       "      <td>0.000000</td>\n",
       "      <td>0.000000</td>\n",
       "      <td>0.000000</td>\n",
       "      <td>0.000000</td>\n",
       "      <td>0.000000</td>\n",
       "      <td>0.000000</td>\n",
       "      <td>0.000000</td>\n",
       "    </tr>\n",
       "    <tr>\n",
       "      <th>1</th>\n",
       "      <td>140.284569</td>\n",
       "      <td>125.066835</td>\n",
       "      <td>99.407094</td>\n",
       "      <td>144.538168</td>\n",
       "      <td>123.464215</td>\n",
       "      <td>126.228779</td>\n",
       "      <td>53.167002</td>\n",
       "      <td>53.164187</td>\n",
       "      <td>171.223920</td>\n",
       "      <td>197.550272</td>\n",
       "      <td>...</td>\n",
       "      <td>50.416874</td>\n",
       "      <td>56.073181</td>\n",
       "      <td>90.482133</td>\n",
       "      <td>89.312066</td>\n",
       "      <td>81.439243</td>\n",
       "      <td>86.755582</td>\n",
       "      <td>78.766980</td>\n",
       "      <td>98.428608</td>\n",
       "      <td>84.336913</td>\n",
       "      <td>142.912496</td>\n",
       "    </tr>\n",
       "    <tr>\n",
       "      <th>2</th>\n",
       "      <td>155.261071</td>\n",
       "      <td>131.050761</td>\n",
       "      <td>101.945133</td>\n",
       "      <td>149.415030</td>\n",
       "      <td>163.861574</td>\n",
       "      <td>151.292956</td>\n",
       "      <td>66.100078</td>\n",
       "      <td>53.167002</td>\n",
       "      <td>182.066226</td>\n",
       "      <td>213.335103</td>\n",
       "      <td>...</td>\n",
       "      <td>65.691253</td>\n",
       "      <td>65.695206</td>\n",
       "      <td>98.234025</td>\n",
       "      <td>96.267150</td>\n",
       "      <td>89.199388</td>\n",
       "      <td>103.686330</td>\n",
       "      <td>86.973908</td>\n",
       "      <td>100.145160</td>\n",
       "      <td>116.116333</td>\n",
       "      <td>154.404183</td>\n",
       "    </tr>\n",
       "    <tr>\n",
       "      <th>3</th>\n",
       "      <td>165.225364</td>\n",
       "      <td>135.375320</td>\n",
       "      <td>149.415030</td>\n",
       "      <td>158.003884</td>\n",
       "      <td>165.634544</td>\n",
       "      <td>169.042316</td>\n",
       "      <td>141.780099</td>\n",
       "      <td>117.863859</td>\n",
       "      <td>193.659753</td>\n",
       "      <td>225.112334</td>\n",
       "      <td>...</td>\n",
       "      <td>69.765913</td>\n",
       "      <td>72.228103</td>\n",
       "      <td>113.676771</td>\n",
       "      <td>101.830813</td>\n",
       "      <td>98.514478</td>\n",
       "      <td>112.876431</td>\n",
       "      <td>87.020074</td>\n",
       "      <td>117.688612</td>\n",
       "      <td>118.509346</td>\n",
       "      <td>158.852038</td>\n",
       "    </tr>\n",
       "    <tr>\n",
       "      <th>4</th>\n",
       "      <td>166.557312</td>\n",
       "      <td>142.916412</td>\n",
       "      <td>158.876841</td>\n",
       "      <td>165.225364</td>\n",
       "      <td>187.351178</td>\n",
       "      <td>180.700334</td>\n",
       "      <td>165.613391</td>\n",
       "      <td>140.842844</td>\n",
       "      <td>194.919392</td>\n",
       "      <td>248.987493</td>\n",
       "      <td>...</td>\n",
       "      <td>76.590094</td>\n",
       "      <td>82.681718</td>\n",
       "      <td>120.718303</td>\n",
       "      <td>105.573554</td>\n",
       "      <td>102.450525</td>\n",
       "      <td>123.325750</td>\n",
       "      <td>87.207856</td>\n",
       "      <td>119.706981</td>\n",
       "      <td>136.909424</td>\n",
       "      <td>160.478698</td>\n",
       "    </tr>\n",
       "  </tbody>\n",
       "</table>\n",
       "<p>5 rows × 6941 columns</p>\n",
       "</div>"
      ],
      "text/plain": [
       "            0           1           2           3           4           5  \\\n",
       "0    0.000000    0.000000    0.000000    0.000000    0.000000    0.000000   \n",
       "1  140.284569  125.066835   99.407094  144.538168  123.464215  126.228779   \n",
       "2  155.261071  131.050761  101.945133  149.415030  163.861574  151.292956   \n",
       "3  165.225364  135.375320  149.415030  158.003884  165.634544  169.042316   \n",
       "4  166.557312  142.916412  158.876841  165.225364  187.351178  180.700334   \n",
       "\n",
       "            6           7           8           9  ...       6931       6932  \\\n",
       "0    0.000000    0.000000    0.000000    0.000000  ...   0.000000   0.000000   \n",
       "1   53.167002   53.164187  171.223920  197.550272  ...  50.416874  56.073181   \n",
       "2   66.100078   53.167002  182.066226  213.335103  ...  65.691253  65.695206   \n",
       "3  141.780099  117.863859  193.659753  225.112334  ...  69.765913  72.228103   \n",
       "4  165.613391  140.842844  194.919392  248.987493  ...  76.590094  82.681718   \n",
       "\n",
       "         6933        6934        6935        6936       6937        6938  \\\n",
       "0    0.000000    0.000000    0.000000    0.000000   0.000000    0.000000   \n",
       "1   90.482133   89.312066   81.439243   86.755582  78.766980   98.428608   \n",
       "2   98.234025   96.267150   89.199388  103.686330  86.973908  100.145160   \n",
       "3  113.676771  101.830813   98.514478  112.876431  87.020074  117.688612   \n",
       "4  120.718303  105.573554  102.450525  123.325750  87.207856  119.706981   \n",
       "\n",
       "         6939        6940  \n",
       "0    0.000000    0.000000  \n",
       "1   84.336913  142.912496  \n",
       "2  116.116333  154.404183  \n",
       "3  118.509346  158.852038  \n",
       "4  136.909424  160.478698  \n",
       "\n",
       "[5 rows x 6941 columns]"
      ]
     },
     "execution_count": 12,
     "metadata": {},
     "output_type": "execute_result"
    }
   ],
   "source": [
    "#nearpts20: per ogni punto le distanze dei primi 20 vicini\n",
    "\n",
    "nearpts20 = pd.DataFrame(list(matdist.iloc[:,0].sort_values()[:20]))\n",
    "\n",
    "for i in range(len(matdist)-1):\n",
    "    i=i+1\n",
    "    nearpts20[str(i)]=list(matdist.iloc[:,i].sort_values()[:20])\n",
    "    \n",
    "nearpts20.head()"
   ]
  },
  {
   "cell_type": "code",
   "execution_count": 13,
   "metadata": {},
   "outputs": [
    {
     "name": "stdout",
     "output_type": "stream",
     "text": [
      "distanza minima e massima del 20 vicino\n",
      "65.51313235344499 893.5541940088245\n"
     ]
    }
   ],
   "source": [
    "print('distanza minima e massima del 20 vicino')\n",
    "print(min(nearpts20.iloc[19,:]), max(nearpts20.iloc[19,:]))"
   ]
  },
  {
   "cell_type": "code",
   "execution_count": 14,
   "metadata": {},
   "outputs": [
    {
     "data": {
      "text/plain": [
       "<matplotlib.collections.PathCollection at 0x7fc3d716f1d0>"
      ]
     },
     "execution_count": 14,
     "metadata": {},
     "output_type": "execute_result"
    },
    {
     "data": {
      "image/png": "[encoded data removed]",
      "text/plain": [
       "<Figure size 432x288 with 1 Axes>"
      ]
     },
     "metadata": {},
     "output_type": "display_data"
    }
   ],
   "source": [
    "plt.scatter(range(len(df)),nearpts20.iloc[19,:].sort_values())"
   ]
  },
  {
   "cell_type": "code",
   "execution_count": 16,
   "metadata": {},
   "outputs": [],
   "source": [
    "eps=220\n",
    "\n",
    "#near è la colonna di quanti sono i vicini piu vicini di 220\n",
    "\n",
    "df['near']= [sum(matdist.iloc[i,:]<eps) for i in range(len(df))]"
   ]
  },
  {
   "cell_type": "code",
   "execution_count": 17,
   "metadata": {},
   "outputs": [
    {
     "data": {
      "text/html": [
       "<div>\n",
       "<style scoped>\n",
       "    .dataframe tbody tr th:only-of-type {\n",
       "        vertical-align: middle;\n",
       "    }\n",
       "\n",
       "    .dataframe tbody tr th {\n",
       "        vertical-align: top;\n",
       "    }\n",
       "\n",
       "    .dataframe thead th {\n",
       "        text-align: right;\n",
       "    }\n",
       "</style>\n",
       "<table border=\"1\" class=\"dataframe\">\n",
       "  <thead>\n",
       "    <tr style=\"text-align: right;\">\n",
       "      <th></th>\n",
       "      <th>co</th>\n",
       "      <th>pt1</th>\n",
       "      <th>c6h6</th>\n",
       "      <th>pt2</th>\n",
       "      <th>nox</th>\n",
       "      <th>pt3</th>\n",
       "      <th>no2</th>\n",
       "      <th>pt4</th>\n",
       "      <th>pt5</th>\n",
       "      <th>t</th>\n",
       "      <th>rh</th>\n",
       "      <th>ah</th>\n",
       "      <th>near</th>\n",
       "    </tr>\n",
       "  </thead>\n",
       "  <tbody>\n",
       "    <tr>\n",
       "      <th>484</th>\n",
       "      <td>3.3</td>\n",
       "      <td>1308.0</td>\n",
       "      <td>16.4</td>\n",
       "      <td>1193.0</td>\n",
       "      <td>163.0</td>\n",
       "      <td>793.0</td>\n",
       "      <td>106.0</td>\n",
       "      <td>1193.0</td>\n",
       "      <td>1187.0</td>\n",
       "      <td>23.6</td>\n",
       "      <td>27.5</td>\n",
       "      <td>0.7913</td>\n",
       "      <td>1</td>\n",
       "    </tr>\n",
       "    <tr>\n",
       "      <th>3817</th>\n",
       "      <td>3.7</td>\n",
       "      <td>1407.0</td>\n",
       "      <td>17.8</td>\n",
       "      <td>1235.0</td>\n",
       "      <td>338.0</td>\n",
       "      <td>548.0</td>\n",
       "      <td>77.0</td>\n",
       "      <td>1780.0</td>\n",
       "      <td>2519.0</td>\n",
       "      <td>20.1</td>\n",
       "      <td>71.1</td>\n",
       "      <td>1.6498</td>\n",
       "      <td>1</td>\n",
       "    </tr>\n",
       "    <tr>\n",
       "      <th>2190</th>\n",
       "      <td>3.9</td>\n",
       "      <td>1213.0</td>\n",
       "      <td>21.1</td>\n",
       "      <td>1327.0</td>\n",
       "      <td>251.0</td>\n",
       "      <td>654.0</td>\n",
       "      <td>155.0</td>\n",
       "      <td>1864.0</td>\n",
       "      <td>2021.0</td>\n",
       "      <td>34.2</td>\n",
       "      <td>17.9</td>\n",
       "      <td>0.9444</td>\n",
       "      <td>1</td>\n",
       "    </tr>\n",
       "    <tr>\n",
       "      <th>4463</th>\n",
       "      <td>3.2</td>\n",
       "      <td>1202.0</td>\n",
       "      <td>13.0</td>\n",
       "      <td>1083.0</td>\n",
       "      <td>629.0</td>\n",
       "      <td>1376.0</td>\n",
       "      <td>143.0</td>\n",
       "      <td>1410.0</td>\n",
       "      <td>1340.0</td>\n",
       "      <td>11.0</td>\n",
       "      <td>74.4</td>\n",
       "      <td>0.9736</td>\n",
       "      <td>1</td>\n",
       "    </tr>\n",
       "    <tr>\n",
       "      <th>4011</th>\n",
       "      <td>6.8</td>\n",
       "      <td>1578.0</td>\n",
       "      <td>32.3</td>\n",
       "      <td>1605.0</td>\n",
       "      <td>1247.0</td>\n",
       "      <td>429.0</td>\n",
       "      <td>211.0</td>\n",
       "      <td>2032.0</td>\n",
       "      <td>1643.0</td>\n",
       "      <td>9.9</td>\n",
       "      <td>83.4</td>\n",
       "      <td>1.0194</td>\n",
       "      <td>1</td>\n",
       "    </tr>\n",
       "  </tbody>\n",
       "</table>\n",
       "</div>"
      ],
      "text/plain": [
       "       co     pt1  c6h6     pt2     nox     pt3    no2     pt4     pt5     t  \\\n",
       "484   3.3  1308.0  16.4  1193.0   163.0   793.0  106.0  1193.0  1187.0  23.6   \n",
       "3817  3.7  1407.0  17.8  1235.0   338.0   548.0   77.0  1780.0  2519.0  20.1   \n",
       "2190  3.9  1213.0  21.1  1327.0   251.0   654.0  155.0  1864.0  2021.0  34.2   \n",
       "4463  3.2  1202.0  13.0  1083.0   629.0  1376.0  143.0  1410.0  1340.0  11.0   \n",
       "4011  6.8  1578.0  32.3  1605.0  1247.0   429.0  211.0  2032.0  1643.0   9.9   \n",
       "\n",
       "        rh      ah  near  \n",
       "484   27.5  0.7913     1  \n",
       "3817  71.1  1.6498     1  \n",
       "2190  17.9  0.9444     1  \n",
       "4463  74.4  0.9736     1  \n",
       "4011  83.4  1.0194     1  "
      ]
     },
     "execution_count": 17,
     "metadata": {},
     "output_type": "execute_result"
    }
   ],
   "source": [
    "df.sort_values('near').head()"
   ]
  },
  {
   "cell_type": "code",
   "execution_count": 18,
   "metadata": {},
   "outputs": [],
   "source": [
    "#i più 70 outliers\n",
    "\n",
    "top_nn=df.sort_values('near')[:70].index"
   ]
  },
  {
   "cell_type": "code",
   "execution_count": 19,
   "metadata": {},
   "outputs": [
    {
     "data": {
      "text/plain": [
       "70"
      ]
     },
     "execution_count": 19,
     "metadata": {},
     "output_type": "execute_result"
    }
   ],
   "source": [
    "len(top_nn)"
   ]
  },
  {
   "cell_type": "markdown",
   "metadata": {},
   "source": [
    "#### Mahala"
   ]
  },
  {
   "cell_type": "code",
   "execution_count": 20,
   "metadata": {},
   "outputs": [],
   "source": [
    "from numpy.linalg import inv\n",
    "from scipy.spatial import distance"
   ]
  },
  {
   "cell_type": "code",
   "execution_count": 21,
   "metadata": {},
   "outputs": [
    {
     "ename": "NameError",
     "evalue": "name 'datidf' is not defined",
     "output_type": "error",
     "traceback": [
      "\u001b[0;31m---------------------------------------------------------------------------\u001b[0m",
      "\u001b[0;31mNameError\u001b[0m                                 Traceback (most recent call last)",
      "\u001b[0;32m<ipython-input-21-7868b1e2d4f2>\u001b[0m in \u001b[0;36m<module>\u001b[0;34m\u001b[0m\n\u001b[0;32m----> 1\u001b[0;31m \u001b[0mtype\u001b[0m\u001b[0;34m(\u001b[0m\u001b[0mdatidf\u001b[0m\u001b[0;34m.\u001b[0m\u001b[0miloc\u001b[0m\u001b[0;34m[\u001b[0m\u001b[0;36m4\u001b[0m\u001b[0;34m,\u001b[0m\u001b[0;36m11\u001b[0m\u001b[0;34m]\u001b[0m\u001b[0;34m)\u001b[0m\u001b[0;34m\u001b[0m\u001b[0m\n\u001b[0m",
      "\u001b[0;31mNameError\u001b[0m: name 'datidf' is not defined"
     ]
    }
   ],
   "source": [
    "type(datidf.iloc[4,11])"
   ]
  },
  {
   "cell_type": "code",
   "execution_count": 302,
   "metadata": {},
   "outputs": [],
   "source": [
    "datidf = df.iloc[:,:12]\n",
    "matcov = np.zeros((12,12))\n",
    "\n",
    "\n",
    "for i in range(12):\n",
    "    matcov[i,i]=1\n",
    "    for k in range(i+1,12):\n",
    "        x = [datidf.iloc[:,i].values,datidf.iloc[:,k].values]\n",
    "        matcov[i,k]=np.cov(x)[0,1]\n",
    "        matcov[k,i]=np.cov(x)[0,1]\n",
    "        \n",
    "iv = inv(matcov)\n"
   ]
  },
  {
   "cell_type": "code",
   "execution_count": 293,
   "metadata": {},
   "outputs": [
    {
     "data": {
      "text/plain": [
       "-2.248777145100268e-38"
      ]
     },
     "execution_count": 293,
     "metadata": {},
     "output_type": "execute_result"
    }
   ],
   "source": [
    "np.linalg.det(inv(matcov))"
   ]
  },
  {
   "cell_type": "code",
   "execution_count": 289,
   "metadata": {},
   "outputs": [
    {
     "data": {
      "text/plain": [
       "nan"
      ]
     },
     "execution_count": 289,
     "metadata": {},
     "output_type": "execute_result"
    }
   ],
   "source": [
    "distance.mahalanobis(np.random.rand(12),np.random.rand(12), iv)"
   ]
  },
  {
   "cell_type": "code",
   "execution_count": 318,
   "metadata": {},
   "outputs": [
    {
     "data": {
      "text/plain": [
       "array([[ 0.33472768, -0.10046021, -0.08427557],\n",
       "       [-0.10046021,  0.02514299, -0.04564849],\n",
       "       [-0.08427557, -0.04564849,  0.01621071]])"
      ]
     },
     "execution_count": 318,
     "metadata": {},
     "output_type": "execute_result"
    }
   ],
   "source": [
    "datidf = pd.DataFrame([[1,2,3],\n",
    "                  [3,4,-5],\n",
    "                  [0,0.9,8],\n",
    "                  [4,-5,6]])\n",
    "matcov = np.zeros((3,3))\n",
    "\n",
    "\n",
    "for i in range(3):\n",
    "    matcov[i,i]=1\n",
    "    for k in range(i+1,3):\n",
    "        x = [datidf.iloc[:,i].values,datidf.iloc[:,k].values]\n",
    "        matcov[i,k]=np.cov(x)[0,1]\n",
    "        matcov[k,i]=np.cov(x)[0,1] \n",
    "        \n",
    "iv = inv(matcov)\n",
    "iv\n"
   ]
  },
  {
   "cell_type": "code",
   "execution_count": 341,
   "metadata": {},
   "outputs": [
    {
     "data": {
      "text/plain": [
       "nan"
      ]
     },
     "execution_count": 341,
     "metadata": {},
     "output_type": "execute_result"
    }
   ],
   "source": [
    "    \n",
    "iv = inv(matcov)\n",
    "distance.mahalanobis(np.random.rand(3),np.random.rand(3), iv)"
   ]
  },
  {
   "cell_type": "markdown",
   "metadata": {},
   "source": [
    "# dbscan"
   ]
  },
  {
   "cell_type": "code",
   "execution_count": 22,
   "metadata": {},
   "outputs": [],
   "source": [
    "from sklearn.cluster import DBSCAN\n"
   ]
  },
  {
   "cell_type": "code",
   "execution_count": 23,
   "metadata": {},
   "outputs": [],
   "source": [
    "datidbdf=df.iloc[:,:12]"
   ]
  },
  {
   "cell_type": "code",
   "execution_count": 24,
   "metadata": {},
   "outputs": [],
   "source": [
    "datidb =np.array([df.iloc[i,:12] for i in range(len(datidbdf))])"
   ]
  },
  {
   "cell_type": "code",
   "execution_count": 25,
   "metadata": {},
   "outputs": [
    {
     "data": {
      "text/plain": [
       "array([[2.600e+00, 1.360e+03, 1.190e+01, 1.046e+03, 1.660e+02, 1.056e+03,\n",
       "        1.130e+02, 1.692e+03, 1.268e+03, 1.360e+01, 4.890e+01, 7.578e-01],\n",
       "       [2.000e+00, 1.292e+03, 9.400e+00, 9.550e+02, 1.030e+02, 1.174e+03,\n",
       "        9.200e+01, 1.559e+03, 9.720e+02, 1.330e+01, 4.770e+01, 7.255e-01],\n",
       "       [2.200e+00, 1.402e+03, 9.000e+00, 9.390e+02, 1.310e+02, 1.140e+03,\n",
       "        1.140e+02, 1.555e+03, 1.074e+03, 1.190e+01, 5.400e+01, 7.502e-01],\n",
       "       [2.200e+00, 1.376e+03, 9.200e+00, 9.480e+02, 1.720e+02, 1.092e+03,\n",
       "        1.220e+02, 1.584e+03, 1.203e+03, 1.100e+01, 6.000e+01, 7.867e-01],\n",
       "       [1.600e+00, 1.272e+03, 6.500e+00, 8.360e+02, 1.310e+02, 1.205e+03,\n",
       "        1.160e+02, 1.490e+03, 1.110e+03, 1.120e+01, 5.960e+01, 7.888e-01],\n",
       "       [1.200e+00, 1.197e+03, 4.700e+00, 7.500e+02, 8.900e+01, 1.337e+03,\n",
       "        9.600e+01, 1.393e+03, 9.490e+02, 1.120e+01, 5.920e+01, 7.848e-01],\n",
       "       [1.200e+00, 1.185e+03, 3.600e+00, 6.900e+02, 6.200e+01, 1.462e+03,\n",
       "        7.700e+01, 1.333e+03, 7.330e+02, 1.130e+01, 5.680e+01, 7.603e-01],\n",
       "       [1.000e+00, 1.136e+03, 3.300e+00, 6.720e+02, 6.200e+01, 1.453e+03,\n",
       "        7.600e+01, 1.333e+03, 7.300e+02, 1.070e+01, 6.000e+01, 7.702e-01],\n",
       "       [9.000e-01, 1.094e+03, 2.300e+00, 6.090e+02, 4.500e+01, 1.579e+03,\n",
       "        6.000e+01, 1.276e+03, 6.200e+02, 1.070e+01, 5.970e+01, 7.648e-01],\n",
       "       [7.000e-01, 1.066e+03, 1.100e+00, 5.120e+02, 1.600e+01, 1.918e+03,\n",
       "        2.800e+01, 1.182e+03, 4.220e+02, 1.100e+01, 5.620e+01, 7.366e-01]])"
      ]
     },
     "execution_count": 25,
     "metadata": {},
     "output_type": "execute_result"
    }
   ],
   "source": [
    "datidb[:10]"
   ]
  },
  {
   "cell_type": "code",
   "execution_count": 26,
   "metadata": {},
   "outputs": [],
   "source": [
    "from sklearn.metrics import *\n",
    "from sklearn.cluster import DBSCAN\n",
    "\n",
    "xx = np.linspace(1, 300, 200)\n",
    "yy = list()\n",
    "for eps in xx:\n",
    "    dbscan = DBSCAN(eps, min_samples=3, metric='euclidean')\n",
    "    dbscan.fit(datidb)\n",
    "    labels = dbscan.labels_\n",
    "    # yy = size of noise cluster\n",
    "    yy.append(float(len([1 for i in labels if i == -1])) / len(datidb))\n"
   ]
  },
  {
   "cell_type": "code",
   "execution_count": 27,
   "metadata": {},
   "outputs": [
    {
     "data": {
      "text/plain": [
       "[<matplotlib.lines.Line2D at 0x7fc3ea50f080>]"
      ]
     },
     "execution_count": 27,
     "metadata": {},
     "output_type": "execute_result"
    },
    {
     "data": {
      "image/png": "[encoded data removed]",
      "text/plain": [
       "<Figure size 432x288 with 1 Axes>"
      ]
     },
     "metadata": {},
     "output_type": "display_data"
    }
   ],
   "source": [
    "plt.plot(xx, yy)"
   ]
  },
  {
   "cell_type": "code",
   "execution_count": 28,
   "metadata": {},
   "outputs": [
    {
     "name": "stdout",
     "output_type": "stream",
     "text": [
      "193.321608040201\n"
     ]
    }
   ],
   "source": [
    "my_eps = min( [ xx[i] for i in range(len(xx)) if yy[i]<0.01] )\n",
    "print( my_eps)"
   ]
  },
  {
   "cell_type": "code",
   "execution_count": 29,
   "metadata": {},
   "outputs": [],
   "source": [
    "my_eps=192"
   ]
  },
  {
   "cell_type": "code",
   "execution_count": 30,
   "metadata": {},
   "outputs": [],
   "source": [
    "dbscan = DBSCAN(my_eps, min_samples=3, metric='euclidean')\n",
    "dbscan.fit(datidb)\n",
    "labels = dbscan.labels_\n",
    "noise = np.array([ datidb[i] for i in range(len(datidb)) if labels[i]==-1])\n"
   ]
  },
  {
   "cell_type": "code",
   "execution_count": 31,
   "metadata": {},
   "outputs": [],
   "source": [
    "datidbdf['noise']=(labels==-1)"
   ]
  },
  {
   "cell_type": "code",
   "execution_count": 32,
   "metadata": {},
   "outputs": [],
   "source": [
    "top_dbscan = datidbdf[datidbdf.noise==True].index"
   ]
  },
  {
   "cell_type": "code",
   "execution_count": 33,
   "metadata": {},
   "outputs": [
    {
     "name": "stdout",
     "output_type": "stream",
     "text": [
      "quantità noise 70\n",
      "intersezione db/nn 53\n"
     ]
    }
   ],
   "source": [
    "#confronto nn/db\n",
    "\n",
    "print(\"quantità noise\", len(noise))\n",
    "print('intersezione db/nn', len(set(top_dbscan).intersection(set(top_nn))))"
   ]
  },
  {
   "cell_type": "code",
   "execution_count": null,
   "metadata": {},
   "outputs": [],
   "source": []
  },
  {
   "cell_type": "markdown",
   "metadata": {},
   "source": [
    "# LOF\n"
   ]
  },
  {
   "cell_type": "code",
   "execution_count": 44,
   "metadata": {},
   "outputs": [],
   "source": [
    "from sklearn.neighbors import LocalOutlierFactor\n"
   ]
  },
  {
   "cell_type": "code",
   "execution_count": 66,
   "metadata": {},
   "outputs": [
    {
     "name": "stderr",
     "output_type": "stream",
     "text": [
      "/home/gambit/.local/lib/python3.6/site-packages/sklearn/neighbors/lof.py:236: FutureWarning: default contamination parameter 0.1 will change in version 0.22 to \"auto\". This will change the predict method behavior.\n",
      "  FutureWarning)\n"
     ]
    }
   ],
   "source": [
    "clf = LocalOutlierFactor(n_neighbors=20)\n",
    "y_pred = clf.fit_predict(df.iloc[:,:12])"
   ]
  },
  {
   "cell_type": "code",
   "execution_count": 71,
   "metadata": {},
   "outputs": [
    {
     "data": {
      "text/html": [
       "<div>\n",
       "<style scoped>\n",
       "    .dataframe tbody tr th:only-of-type {\n",
       "        vertical-align: middle;\n",
       "    }\n",
       "\n",
       "    .dataframe tbody tr th {\n",
       "        vertical-align: top;\n",
       "    }\n",
       "\n",
       "    .dataframe thead th {\n",
       "        text-align: right;\n",
       "    }\n",
       "</style>\n",
       "<table border=\"1\" class=\"dataframe\">\n",
       "  <thead>\n",
       "    <tr style=\"text-align: right;\">\n",
       "      <th></th>\n",
       "      <th>0</th>\n",
       "      <th>1</th>\n",
       "      <th>2</th>\n",
       "      <th>3</th>\n",
       "      <th>4</th>\n",
       "      <th>5</th>\n",
       "      <th>6</th>\n",
       "      <th>7</th>\n",
       "      <th>8</th>\n",
       "      <th>9</th>\n",
       "      <th>...</th>\n",
       "      <th>6931</th>\n",
       "      <th>6932</th>\n",
       "      <th>6933</th>\n",
       "      <th>6934</th>\n",
       "      <th>6935</th>\n",
       "      <th>6936</th>\n",
       "      <th>6937</th>\n",
       "      <th>6938</th>\n",
       "      <th>6939</th>\n",
       "      <th>6940</th>\n",
       "    </tr>\n",
       "  </thead>\n",
       "  <tbody>\n",
       "    <tr>\n",
       "      <th>0</th>\n",
       "      <td>1.143993</td>\n",
       "      <td>1.150184</td>\n",
       "      <td>1.273289</td>\n",
       "      <td>1.200221</td>\n",
       "      <td>1.304842</td>\n",
       "      <td>1.340046</td>\n",
       "      <td>1.252157</td>\n",
       "      <td>1.206764</td>\n",
       "      <td>1.261409</td>\n",
       "      <td>1.519918</td>\n",
       "      <td>...</td>\n",
       "      <td>1.020748</td>\n",
       "      <td>1.007747</td>\n",
       "      <td>1.038128</td>\n",
       "      <td>1.021017</td>\n",
       "      <td>0.977884</td>\n",
       "      <td>1.057127</td>\n",
       "      <td>0.991852</td>\n",
       "      <td>1.081721</td>\n",
       "      <td>1.302996</td>\n",
       "      <td>1.32647</td>\n",
       "    </tr>\n",
       "    <tr>\n",
       "      <th>1</th>\n",
       "      <td>1.000000</td>\n",
       "      <td>1.000000</td>\n",
       "      <td>-1.000000</td>\n",
       "      <td>-1.000000</td>\n",
       "      <td>-1.000000</td>\n",
       "      <td>-1.000000</td>\n",
       "      <td>-1.000000</td>\n",
       "      <td>-1.000000</td>\n",
       "      <td>-1.000000</td>\n",
       "      <td>-1.000000</td>\n",
       "      <td>...</td>\n",
       "      <td>1.000000</td>\n",
       "      <td>1.000000</td>\n",
       "      <td>1.000000</td>\n",
       "      <td>1.000000</td>\n",
       "      <td>1.000000</td>\n",
       "      <td>1.000000</td>\n",
       "      <td>1.000000</td>\n",
       "      <td>1.000000</td>\n",
       "      <td>-1.000000</td>\n",
       "      <td>-1.00000</td>\n",
       "    </tr>\n",
       "  </tbody>\n",
       "</table>\n",
       "<p>2 rows × 6941 columns</p>\n",
       "</div>"
      ],
      "text/plain": [
       "       0         1         2         3         4         5         6     \\\n",
       "0  1.143993  1.150184  1.273289  1.200221  1.304842  1.340046  1.252157   \n",
       "1  1.000000  1.000000 -1.000000 -1.000000 -1.000000 -1.000000 -1.000000   \n",
       "\n",
       "       7         8         9     ...      6931      6932      6933      6934  \\\n",
       "0  1.206764  1.261409  1.519918  ...  1.020748  1.007747  1.038128  1.021017   \n",
       "1 -1.000000 -1.000000 -1.000000  ...  1.000000  1.000000  1.000000  1.000000   \n",
       "\n",
       "       6935      6936      6937      6938      6939     6940  \n",
       "0  0.977884  1.057127  0.991852  1.081721  1.302996  1.32647  \n",
       "1  1.000000  1.000000  1.000000  1.000000 -1.000000 -1.00000  \n",
       "\n",
       "[2 rows x 6941 columns]"
      ]
     },
     "execution_count": 71,
     "metadata": {},
     "output_type": "execute_result"
    }
   ],
   "source": [
    "pd.DataFrame([-clf.negative_outlier_factor_, y_pred])"
   ]
  },
  {
   "cell_type": "code",
   "execution_count": 73,
   "metadata": {},
   "outputs": [],
   "source": [
    "df['lof_fac']=-clf.negative_outlier_factor_"
   ]
  },
  {
   "cell_type": "code",
   "execution_count": 81,
   "metadata": {},
   "outputs": [],
   "source": [
    "top_lof= df.sort_values('lof_fac', ascending=False)[:70].index"
   ]
  },
  {
   "cell_type": "code",
   "execution_count": 85,
   "metadata": {},
   "outputs": [
    {
     "name": "stdout",
     "output_type": "stream",
     "text": [
      "intersezione db/nn 53\n",
      "intersezione db/lof 34\n",
      "intersezione lof/nn 35\n",
      "70\n"
     ]
    }
   ],
   "source": [
    "\n",
    "print('intersezione db/nn', len(set(top_dbscan).intersection(set(top_nn))))\n",
    "print('intersezione db/lof', len(set(top_dbscan).intersection(set(top_lof))))\n",
    "print('intersezione lof/nn', len(set(top_lof).intersection(set(top_nn))))\n",
    "print(len(top_lof))"
   ]
  },
  {
   "cell_type": "code",
   "execution_count": 65,
   "metadata": {},
   "outputs": [
    {
     "data": {
      "text/plain": [
       "694"
      ]
     },
     "execution_count": 65,
     "metadata": {},
     "output_type": "execute_result"
    }
   ],
   "source": [
    "(y_pred==-1)"
   ]
  },
  {
   "cell_type": "code",
   "execution_count": 55,
   "metadata": {},
   "outputs": [
    {
     "data": {
      "text/plain": [
       "6941"
      ]
     },
     "execution_count": 55,
     "metadata": {},
     "output_type": "execute_result"
    }
   ],
   "source": [
    "len(y_pred)"
   ]
  },
  {
   "cell_type": "code",
   "execution_count": null,
   "metadata": {},
   "outputs": [],
   "source": []
  },
  {
   "cell_type": "code",
   "execution_count": null,
   "metadata": {},
   "outputs": [],
   "source": []
  },
  {
   "cell_type": "code",
   "execution_count": null,
   "metadata": {},
   "outputs": [],
   "source": []
  },
  {
   "cell_type": "code",
   "execution_count": null,
   "metadata": {},
   "outputs": [],
   "source": []
  },
  {
   "cell_type": "code",
   "execution_count": null,
   "metadata": {},
   "outputs": [],
   "source": []
  },
  {
   "cell_type": "code",
   "execution_count": null,
   "metadata": {},
   "outputs": [],
   "source": []
  },
  {
   "cell_type": "code",
   "execution_count": null,
   "metadata": {},
   "outputs": [],
   "source": []
  },
  {
   "cell_type": "code",
   "execution_count": null,
   "metadata": {},
   "outputs": [],
   "source": []
  },
  {
   "cell_type": "code",
   "execution_count": null,
   "metadata": {},
   "outputs": [],
   "source": []
  },
  {
   "cell_type": "code",
   "execution_count": null,
   "metadata": {},
   "outputs": [],
   "source": []
  },
  {
   "cell_type": "code",
   "execution_count": null,
   "metadata": {},
   "outputs": [],
   "source": []
  },
  {
   "cell_type": "code",
   "execution_count": 34,
   "metadata": {},
   "outputs": [
    {
     "data": {
      "text/plain": [
       "1    27\n",
       "2    19\n",
       "3    14\n",
       "4     4\n",
       "5     3\n",
       "6     2\n",
       "8     1\n",
       "Name: near, dtype: int64"
      ]
     },
     "execution_count": 34,
     "metadata": {},
     "output_type": "execute_result"
    }
   ],
   "source": [
    "#numero di vicini degli outlier classificati con dbscan\n",
    "\n",
    "set(df.near[top_dbscan])\n",
    "\n",
    "df.near[top_dbscan].value_counts()\n"
   ]
  },
  {
   "cell_type": "code",
   "execution_count": 35,
   "metadata": {},
   "outputs": [
    {
     "data": {
      "text/plain": [
       "1    27\n",
       "2    26\n",
       "3    17\n",
       "Name: near, dtype: int64"
      ]
     },
     "execution_count": 35,
     "metadata": {},
     "output_type": "execute_result"
    }
   ],
   "source": [
    "df.near[top_nn].value_counts()\n"
   ]
  },
  {
   "cell_type": "code",
   "execution_count": 36,
   "metadata": {},
   "outputs": [
    {
     "data": {
      "text/plain": [
       "<matplotlib.collections.PathCollection at 0x7fc3e9d9ef60>"
      ]
     },
     "execution_count": 36,
     "metadata": {},
     "output_type": "execute_result"
    },
    {
     "data": {
      "image/png": "[encoded data removed]",
      "text/plain": [
       "<Figure size 576x360 with 1 Axes>"
      ]
     },
     "metadata": {},
     "output_type": "display_data"
    }
   ],
   "source": [
    "plt.figure(num=None, figsize=(8,5))\n",
    "       \n",
    "plt.scatter(top_nn,df.near[top_nn], marker='o', c='blue')\n"
   ]
  },
  {
   "cell_type": "code",
   "execution_count": 37,
   "metadata": {},
   "outputs": [
    {
     "data": {
      "text/plain": [
       "<matplotlib.collections.PathCollection at 0x7fc3e9ab8550>"
      ]
     },
     "execution_count": 37,
     "metadata": {},
     "output_type": "execute_result"
    },
    {
     "data": {
      "image/png": "[encoded data removed]",
      "text/plain": [
       "<Figure size 576x360 with 1 Axes>"
      ]
     },
     "metadata": {},
     "output_type": "display_data"
    }
   ],
   "source": [
    "plt.figure(num=None, figsize=(8,5))\n",
    "\n",
    "plt.scatter(top_dbscan,df.near[top_dbscan], marker='x', c='red')"
   ]
  },
  {
   "cell_type": "code",
   "execution_count": 38,
   "metadata": {},
   "outputs": [
    {
     "data": {
      "text/plain": [
       "6941"
      ]
     },
     "execution_count": 38,
     "metadata": {},
     "output_type": "execute_result"
    }
   ],
   "source": [
    "len(datidbdf)"
   ]
  },
  {
   "cell_type": "code",
   "execution_count": 39,
   "metadata": {},
   "outputs": [
    {
     "data": {
      "text/plain": [
       "6941"
      ]
     },
     "execution_count": 39,
     "metadata": {},
     "output_type": "execute_result"
    }
   ],
   "source": [
    "len(df)"
   ]
  },
  {
   "cell_type": "code",
   "execution_count": 40,
   "metadata": {},
   "outputs": [],
   "source": [
    "dbnoise = datidbdf[['noise']]\n",
    "nnear=df[['near']]"
   ]
  },
  {
   "cell_type": "code",
   "execution_count": 41,
   "metadata": {},
   "outputs": [
    {
     "data": {
      "text/plain": [
       "(array([ 0,  1,  2,  3,  4,  5,  6,  7,  8,  9, 10, 11, 12, 13, 14, 15, 16,\n",
       "        17, 18, 19, 20, 21, 22, 23, 24, 25, 26]),)"
      ]
     },
     "execution_count": 41,
     "metadata": {},
     "output_type": "execute_result"
    }
   ],
   "source": [
    "np.where(df.near[top_nn]==1)"
   ]
  },
  {
   "cell_type": "code",
   "execution_count": 42,
   "metadata": {},
   "outputs": [],
   "source": [
    "df['noise']=datidbdf.noise\n",
    "sortedout = df.sort_values('near')[['near','noise']]"
   ]
  },
  {
   "cell_type": "code",
   "execution_count": 43,
   "metadata": {},
   "outputs": [
    {
     "ename": "IndexError",
     "evalue": "single positional indexer is out-of-bounds",
     "output_type": "error",
     "traceback": [
      "\u001b[0;31m---------------------------------------------------------------------------\u001b[0m",
      "\u001b[0;31mIndexError\u001b[0m                                Traceback (most recent call last)",
      "\u001b[0;32m<ipython-input-43-932b62cf4ff5>\u001b[0m in \u001b[0;36m<module>\u001b[0;34m\u001b[0m\n\u001b[1;32m      4\u001b[0m \u001b[0;34m\u001b[0m\u001b[0m\n\u001b[1;32m      5\u001b[0m \u001b[0;32mwhile\u001b[0m \u001b[0mfoundlast\u001b[0m\u001b[0;34m==\u001b[0m\u001b[0;36m0\u001b[0m\u001b[0;34m:\u001b[0m\u001b[0;34m\u001b[0m\u001b[0m\n\u001b[0;32m----> 6\u001b[0;31m     \u001b[0;32mif\u001b[0m \u001b[0msortedout\u001b[0m\u001b[0;34m.\u001b[0m\u001b[0miloc\u001b[0m\u001b[0;34m[\u001b[0m\u001b[0mi\u001b[0m\u001b[0;34m,\u001b[0m\u001b[0;36m1\u001b[0m\u001b[0;34m]\u001b[0m\u001b[0;34m==\u001b[0m\u001b[0;32mTrue\u001b[0m\u001b[0;34m:\u001b[0m\u001b[0;34m\u001b[0m\u001b[0m\n\u001b[0m\u001b[1;32m      7\u001b[0m         \u001b[0mfoundlast\u001b[0m\u001b[0;34m=\u001b[0m\u001b[0mi\u001b[0m\u001b[0;34m\u001b[0m\u001b[0m\n\u001b[1;32m      8\u001b[0m     \u001b[0mi\u001b[0m\u001b[0;34m=\u001b[0m\u001b[0mi\u001b[0m\u001b[0;34m+\u001b[0m\u001b[0;36m1\u001b[0m\u001b[0;34m\u001b[0m\u001b[0m\n",
      "\u001b[0;32m~/anaconda3/lib/python3.6/site-packages/pandas/core/indexing.py\u001b[0m in \u001b[0;36m__getitem__\u001b[0;34m(self, key)\u001b[0m\n\u001b[1;32m   1492\u001b[0m             \u001b[0;32mexcept\u001b[0m \u001b[0;34m(\u001b[0m\u001b[0mKeyError\u001b[0m\u001b[0;34m,\u001b[0m \u001b[0mIndexError\u001b[0m\u001b[0;34m,\u001b[0m \u001b[0mAttributeError\u001b[0m\u001b[0;34m)\u001b[0m\u001b[0;34m:\u001b[0m\u001b[0;34m\u001b[0m\u001b[0m\n\u001b[1;32m   1493\u001b[0m                 \u001b[0;32mpass\u001b[0m\u001b[0;34m\u001b[0m\u001b[0m\n\u001b[0;32m-> 1494\u001b[0;31m             \u001b[0;32mreturn\u001b[0m \u001b[0mself\u001b[0m\u001b[0;34m.\u001b[0m\u001b[0m_getitem_tuple\u001b[0m\u001b[0;34m(\u001b[0m\u001b[0mkey\u001b[0m\u001b[0;34m)\u001b[0m\u001b[0;34m\u001b[0m\u001b[0m\n\u001b[0m\u001b[1;32m   1495\u001b[0m         \u001b[0;32melse\u001b[0m\u001b[0;34m:\u001b[0m\u001b[0;34m\u001b[0m\u001b[0m\n\u001b[1;32m   1496\u001b[0m             \u001b[0;31m# we by definition only have the 0th axis\u001b[0m\u001b[0;34m\u001b[0m\u001b[0;34m\u001b[0m\u001b[0m\n",
      "\u001b[0;32m~/anaconda3/lib/python3.6/site-packages/pandas/core/indexing.py\u001b[0m in \u001b[0;36m_getitem_tuple\u001b[0;34m(self, tup)\u001b[0m\n\u001b[1;32m   2141\u001b[0m     \u001b[0;32mdef\u001b[0m \u001b[0m_getitem_tuple\u001b[0m\u001b[0;34m(\u001b[0m\u001b[0mself\u001b[0m\u001b[0;34m,\u001b[0m \u001b[0mtup\u001b[0m\u001b[0;34m)\u001b[0m\u001b[0;34m:\u001b[0m\u001b[0;34m\u001b[0m\u001b[0m\n\u001b[1;32m   2142\u001b[0m \u001b[0;34m\u001b[0m\u001b[0m\n\u001b[0;32m-> 2143\u001b[0;31m         \u001b[0mself\u001b[0m\u001b[0;34m.\u001b[0m\u001b[0m_has_valid_tuple\u001b[0m\u001b[0;34m(\u001b[0m\u001b[0mtup\u001b[0m\u001b[0;34m)\u001b[0m\u001b[0;34m\u001b[0m\u001b[0m\n\u001b[0m\u001b[1;32m   2144\u001b[0m         \u001b[0;32mtry\u001b[0m\u001b[0;34m:\u001b[0m\u001b[0;34m\u001b[0m\u001b[0m\n\u001b[1;32m   2145\u001b[0m             \u001b[0;32mreturn\u001b[0m \u001b[0mself\u001b[0m\u001b[0;34m.\u001b[0m\u001b[0m_getitem_lowerdim\u001b[0m\u001b[0;34m(\u001b[0m\u001b[0mtup\u001b[0m\u001b[0;34m)\u001b[0m\u001b[0;34m\u001b[0m\u001b[0m\n",
      "\u001b[0;32m~/anaconda3/lib/python3.6/site-packages/pandas/core/indexing.py\u001b[0m in \u001b[0;36m_has_valid_tuple\u001b[0;34m(self, key)\u001b[0m\n\u001b[1;32m    221\u001b[0m                 \u001b[0;32mraise\u001b[0m \u001b[0mIndexingError\u001b[0m\u001b[0;34m(\u001b[0m\u001b[0;34m'Too many indexers'\u001b[0m\u001b[0;34m)\u001b[0m\u001b[0;34m\u001b[0m\u001b[0m\n\u001b[1;32m    222\u001b[0m             \u001b[0;32mtry\u001b[0m\u001b[0;34m:\u001b[0m\u001b[0;34m\u001b[0m\u001b[0m\n\u001b[0;32m--> 223\u001b[0;31m                 \u001b[0mself\u001b[0m\u001b[0;34m.\u001b[0m\u001b[0m_validate_key\u001b[0m\u001b[0;34m(\u001b[0m\u001b[0mk\u001b[0m\u001b[0;34m,\u001b[0m \u001b[0mi\u001b[0m\u001b[0;34m)\u001b[0m\u001b[0;34m\u001b[0m\u001b[0m\n\u001b[0m\u001b[1;32m    224\u001b[0m             \u001b[0;32mexcept\u001b[0m \u001b[0mValueError\u001b[0m\u001b[0;34m:\u001b[0m\u001b[0;34m\u001b[0m\u001b[0m\n\u001b[1;32m    225\u001b[0m                 raise ValueError(\"Location based indexing can only have \"\n",
      "\u001b[0;32m~/anaconda3/lib/python3.6/site-packages/pandas/core/indexing.py\u001b[0m in \u001b[0;36m_validate_key\u001b[0;34m(self, key, axis)\u001b[0m\n\u001b[1;32m   2068\u001b[0m             \u001b[0;32mreturn\u001b[0m\u001b[0;34m\u001b[0m\u001b[0m\n\u001b[1;32m   2069\u001b[0m         \u001b[0;32melif\u001b[0m \u001b[0mis_integer\u001b[0m\u001b[0;34m(\u001b[0m\u001b[0mkey\u001b[0m\u001b[0;34m)\u001b[0m\u001b[0;34m:\u001b[0m\u001b[0;34m\u001b[0m\u001b[0m\n\u001b[0;32m-> 2070\u001b[0;31m             \u001b[0mself\u001b[0m\u001b[0;34m.\u001b[0m\u001b[0m_validate_integer\u001b[0m\u001b[0;34m(\u001b[0m\u001b[0mkey\u001b[0m\u001b[0;34m,\u001b[0m \u001b[0maxis\u001b[0m\u001b[0;34m)\u001b[0m\u001b[0;34m\u001b[0m\u001b[0m\n\u001b[0m\u001b[1;32m   2071\u001b[0m         \u001b[0;32melif\u001b[0m \u001b[0misinstance\u001b[0m\u001b[0;34m(\u001b[0m\u001b[0mkey\u001b[0m\u001b[0;34m,\u001b[0m \u001b[0mtuple\u001b[0m\u001b[0;34m)\u001b[0m\u001b[0;34m:\u001b[0m\u001b[0;34m\u001b[0m\u001b[0m\n\u001b[1;32m   2072\u001b[0m             \u001b[0;31m# a tuple should already have been caught by this point\u001b[0m\u001b[0;34m\u001b[0m\u001b[0;34m\u001b[0m\u001b[0m\n",
      "\u001b[0;32m~/anaconda3/lib/python3.6/site-packages/pandas/core/indexing.py\u001b[0m in \u001b[0;36m_validate_integer\u001b[0;34m(self, key, axis)\u001b[0m\n\u001b[1;32m   2137\u001b[0m         \u001b[0mlen_axis\u001b[0m \u001b[0;34m=\u001b[0m \u001b[0mlen\u001b[0m\u001b[0;34m(\u001b[0m\u001b[0mself\u001b[0m\u001b[0;34m.\u001b[0m\u001b[0mobj\u001b[0m\u001b[0;34m.\u001b[0m\u001b[0m_get_axis\u001b[0m\u001b[0;34m(\u001b[0m\u001b[0maxis\u001b[0m\u001b[0;34m)\u001b[0m\u001b[0;34m)\u001b[0m\u001b[0;34m\u001b[0m\u001b[0m\n\u001b[1;32m   2138\u001b[0m         \u001b[0;32mif\u001b[0m \u001b[0mkey\u001b[0m \u001b[0;34m>=\u001b[0m \u001b[0mlen_axis\u001b[0m \u001b[0;32mor\u001b[0m \u001b[0mkey\u001b[0m \u001b[0;34m<\u001b[0m \u001b[0;34m-\u001b[0m\u001b[0mlen_axis\u001b[0m\u001b[0;34m:\u001b[0m\u001b[0;34m\u001b[0m\u001b[0m\n\u001b[0;32m-> 2139\u001b[0;31m             \u001b[0;32mraise\u001b[0m \u001b[0mIndexError\u001b[0m\u001b[0;34m(\u001b[0m\u001b[0;34m\"single positional indexer is out-of-bounds\"\u001b[0m\u001b[0;34m)\u001b[0m\u001b[0;34m\u001b[0m\u001b[0m\n\u001b[0m\u001b[1;32m   2140\u001b[0m \u001b[0;34m\u001b[0m\u001b[0m\n\u001b[1;32m   2141\u001b[0m     \u001b[0;32mdef\u001b[0m \u001b[0m_getitem_tuple\u001b[0m\u001b[0;34m(\u001b[0m\u001b[0mself\u001b[0m\u001b[0;34m,\u001b[0m \u001b[0mtup\u001b[0m\u001b[0;34m)\u001b[0m\u001b[0;34m:\u001b[0m\u001b[0;34m\u001b[0m\u001b[0m\n",
      "\u001b[0;31mIndexError\u001b[0m: single positional indexer is out-of-bounds"
     ]
    }
   ],
   "source": [
    "foundlast=0\n",
    "i=len(sortedout)-1\n",
    "\n",
    "\n",
    "while foundlast==0:\n",
    "    if sortedout.iloc[i,1]==True:\n",
    "        foundlast=i\n",
    "    i=i+1\n",
    "    \n",
    "foundlast"
   ]
  },
  {
   "cell_type": "code",
   "execution_count": 517,
   "metadata": {},
   "outputs": [
    {
     "data": {
      "text/plain": [
       "70"
      ]
     },
     "execution_count": 517,
     "metadata": {},
     "output_type": "execute_result"
    }
   ],
   "source": [
    "sum(sortedout.noise)"
   ]
  },
  {
   "cell_type": "code",
   "execution_count": 518,
   "metadata": {},
   "outputs": [
    {
     "data": {
      "text/plain": [
       "70"
      ]
     },
     "execution_count": 518,
     "metadata": {},
     "output_type": "execute_result"
    }
   ],
   "source": [
    "sum(sortedout.noise[:300])"
   ]
  },
  {
   "cell_type": "code",
   "execution_count": 494,
   "metadata": {},
   "outputs": [
    {
     "data": {
      "text/html": [
       "<div>\n",
       "<style scoped>\n",
       "    .dataframe tbody tr th:only-of-type {\n",
       "        vertical-align: middle;\n",
       "    }\n",
       "\n",
       "    .dataframe tbody tr th {\n",
       "        vertical-align: top;\n",
       "    }\n",
       "\n",
       "    .dataframe thead th {\n",
       "        text-align: right;\n",
       "    }\n",
       "</style>\n",
       "<table border=\"1\" class=\"dataframe\">\n",
       "  <thead>\n",
       "    <tr style=\"text-align: right;\">\n",
       "      <th></th>\n",
       "      <th>near</th>\n",
       "      <th>noise</th>\n",
       "    </tr>\n",
       "  </thead>\n",
       "  <tbody>\n",
       "    <tr>\n",
       "      <th>484</th>\n",
       "      <td>1</td>\n",
       "      <td>True</td>\n",
       "    </tr>\n",
       "    <tr>\n",
       "      <th>3817</th>\n",
       "      <td>1</td>\n",
       "      <td>True</td>\n",
       "    </tr>\n",
       "    <tr>\n",
       "      <th>2190</th>\n",
       "      <td>1</td>\n",
       "      <td>True</td>\n",
       "    </tr>\n",
       "    <tr>\n",
       "      <th>4463</th>\n",
       "      <td>1</td>\n",
       "      <td>True</td>\n",
       "    </tr>\n",
       "    <tr>\n",
       "      <th>4011</th>\n",
       "      <td>1</td>\n",
       "      <td>True</td>\n",
       "    </tr>\n",
       "  </tbody>\n",
       "</table>\n",
       "</div>"
      ],
      "text/plain": [
       "      near  noise\n",
       "484      1   True\n",
       "3817     1   True\n",
       "2190     1   True\n",
       "4463     1   True\n",
       "4011     1   True"
      ]
     },
     "execution_count": 494,
     "metadata": {},
     "output_type": "execute_result"
    }
   ],
   "source": [
    "df.iloc[top_nn,:][['near','noise']].head()"
   ]
  },
  {
   "cell_type": "code",
   "execution_count": null,
   "metadata": {},
   "outputs": [],
   "source": []
  },
  {
   "cell_type": "code",
   "execution_count": 460,
   "metadata": {},
   "outputs": [
    {
     "data": {
      "text/plain": [
       "(array([ 8,  9, 14, 15, 17, 18, 19, 21, 22, 27, 29, 31, 33, 37, 38, 39, 44,\n",
       "        46, 48, 49, 52, 53, 54, 55, 56, 58, 68]),)"
      ]
     },
     "execution_count": 460,
     "metadata": {},
     "output_type": "execute_result"
    }
   ],
   "source": [
    "np.where(df.near[top_dbscan]==1)"
   ]
  }
 ],
 "metadata": {
  "kernelspec": {
   "display_name": "Python 3",
   "language": "python",
   "name": "python3"
  },
  "language_info": {
   "codemirror_mode": {
    "name": "ipython",
    "version": 3
   },
   "file_extension": ".py",
   "mimetype": "text/x-python",
   "name": "python",
   "nbconvert_exporter": "python",
   "pygments_lexer": "ipython3",
   "version": "3.6.5"
  }
 },
 "nbformat": 4,
 "nbformat_minor": 2
}
